{
 "cells": [
  {
   "cell_type": "code",
   "execution_count": 1,
   "metadata": {},
   "outputs": [],
   "source": [
    "import torch\n",
    "import syft as sy\n",
    "import os\n",
    "list_a =[]"
   ]
  }
 ],
 "metadata": {
  "interpreter": {
   "hash": "1cd3b96c771a64349830521c0374f74f1fe8a8d065ecc540067da26ebcca2bc0"
  },
  "kernelspec": {
   "display_name": "Python 3.7.13 ('syft0.2.9')",
   "language": "python",
   "name": "python3"
  },
  "language_info": {
   "codemirror_mode": {
    "name": "ipython",
    "version": 3
   },
   "file_extension": ".py",
   "mimetype": "text/x-python",
   "name": "python",
   "nbconvert_exporter": "python",
   "pygments_lexer": "ipython3",
   "version": "3.7.13"
  },
  "orig_nbformat": 4
 },
 "nbformat": 4,
 "nbformat_minor": 2
}
